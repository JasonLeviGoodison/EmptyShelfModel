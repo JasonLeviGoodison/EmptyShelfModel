{
 "cells": [
  {
   "cell_type": "code",
   "execution_count": 113,
   "metadata": {},
   "outputs": [],
   "source": [
    "import os\n",
    "import numpy as np\n",
    "import keras\n",
    "from keras.preprocessing.image import ImageDataGenerator, array_to_img, img_to_array, load_img\n",
    "from keras.models import Sequential\n",
    "from keras.layers import Dense, Activation, Conv2D, Flatten, Dropout, MaxPooling2D\n",
    "from keras import backend"
   ]
  },
  {
   "cell_type": "code",
   "execution_count": 114,
   "metadata": {},
   "outputs": [],
   "source": [
    "backend.clear_session()"
   ]
  },
  {
   "cell_type": "code",
   "execution_count": 115,
   "metadata": {},
   "outputs": [],
   "source": [
    "img_width, img_height = 150, 150\n",
    "input_shape = (img_width, img_height, 3)\n",
    "\n",
    "empty_shelf = 0\n",
    "train_dir = 'data/train'\n",
    "validation_dir = 'data/validation'\n",
    "batch_size = 16\n",
    "num_train_samples = 695\n",
    "num_validation_samples = 188\n",
    "num_epochs = 50"
   ]
  },
  {
   "cell_type": "code",
   "execution_count": 58,
   "metadata": {},
   "outputs": [],
   "source": [
    "kernel = (3, 3)\n",
    "model = Sequential()\n",
    "model.add(Conv2D(32, kernel, input_shape=input_shape))\n",
    "model.add(Activation('relu'))\n",
    "model.add(MaxPooling2D(pool_size=(2, 2)))\n",
    "\n",
    "model.add(Conv2D(32, kernel))\n",
    "model.add(Activation('relu'))\n",
    "model.add(MaxPooling2D(pool_size=(2, 2)))\n",
    "\n",
    "model.add(Flatten())\n",
    "model.add(Dense(64))\n",
    "model.add(Activation('relu'))\n",
    "model.add(Dropout(0.5))\n",
    "model.add(Dense(1))\n",
    "model.add(Activation('sigmoid'))\n",
    "\n",
    "model.compile(loss='binary_crossentropy',\n",
    "              optimizer='rmsprop',\n",
    "              metrics=['accuracy'])"
   ]
  },
  {
   "cell_type": "code",
   "execution_count": 75,
   "metadata": {},
   "outputs": [],
   "source": [
    "rescale_multiplier = 1. / 255\n",
    "train_datagen = ImageDataGenerator(\n",
    "    rescale=rescale_multiplier,\n",
    "    shear_range=0.2,\n",
    "    zoom_range=0.1,\n",
    "    horizontal_flip=True)\n",
    "\n",
    "test_datagen = ImageDataGenerator(rescale=rescale_multiplier)"
   ]
  },
  {
   "cell_type": "code",
   "execution_count": 60,
   "metadata": {},
   "outputs": [
    {
     "name": "stdout",
     "output_type": "stream",
     "text": [
      "Found 695 images belonging to 2 classes.\n",
      "Found 188 images belonging to 2 classes.\n"
     ]
    }
   ],
   "source": [
    "train_gen = train_datagen.flow_from_directory(\n",
    "    train_dir,\n",
    "    target_size=(img_width, img_height),\n",
    "    batch_size=batch_size,\n",
    "    class_mode='binary')\n",
    "\n",
    "validation_gen = test_datagen.flow_from_directory(\n",
    "    validation_dir,\n",
    "    target_size=(img_width, img_height),\n",
    "    batch_size=batch_size,\n",
    "    class_mode='binary')"
   ]
  },
  {
   "cell_type": "code",
   "execution_count": 61,
   "metadata": {},
   "outputs": [
    {
     "name": "stdout",
     "output_type": "stream",
     "text": [
      "Epoch 1/50\n",
      "43/43 [==============================] - 7s 170ms/step - loss: 0.7523 - accuracy: 0.5434 - val_loss: 0.6589 - val_accuracy: 0.6307\n",
      "Epoch 2/50\n",
      "43/43 [==============================] - 8s 181ms/step - loss: 0.6686 - accuracy: 0.6274 - val_loss: 0.6104 - val_accuracy: 0.7791\n",
      "Epoch 3/50\n",
      "43/43 [==============================] - 8s 189ms/step - loss: 0.5822 - accuracy: 0.7049 - val_loss: 0.4453 - val_accuracy: 0.7384\n",
      "Epoch 4/50\n",
      "43/43 [==============================] - 8s 189ms/step - loss: 0.5551 - accuracy: 0.7657 - val_loss: 0.2527 - val_accuracy: 0.7965\n",
      "Epoch 5/50\n",
      "43/43 [==============================] - 8s 197ms/step - loss: 0.4878 - accuracy: 0.7776 - val_loss: 0.3407 - val_accuracy: 0.8663\n",
      "Epoch 6/50\n",
      "43/43 [==============================] - 8s 189ms/step - loss: 0.4622 - accuracy: 0.7896 - val_loss: 0.2568 - val_accuracy: 0.8779\n",
      "Epoch 7/50\n",
      "43/43 [==============================] - 9s 216ms/step - loss: 0.4796 - accuracy: 0.8115 - val_loss: 0.3420 - val_accuracy: 0.6686\n",
      "Epoch 8/50\n",
      "43/43 [==============================] - 10s 239ms/step - loss: 0.3796 - accuracy: 0.8590 - val_loss: 0.1974 - val_accuracy: 0.8081\n",
      "Epoch 9/50\n",
      "43/43 [==============================] - 11s 245ms/step - loss: 0.3839 - accuracy: 0.8418 - val_loss: 1.6216 - val_accuracy: 0.4826\n",
      "Epoch 10/50\n",
      "43/43 [==============================] - 9s 217ms/step - loss: 0.3355 - accuracy: 0.8616 - val_loss: 0.3119 - val_accuracy: 0.9012\n",
      "Epoch 11/50\n",
      "43/43 [==============================] - 9s 212ms/step - loss: 0.3393 - accuracy: 0.8748 - val_loss: 0.1911 - val_accuracy: 0.8837\n",
      "Epoch 12/50\n",
      "43/43 [==============================] - 9s 215ms/step - loss: 0.3513 - accuracy: 0.8557 - val_loss: 0.2015 - val_accuracy: 0.9360\n",
      "Epoch 13/50\n",
      "43/43 [==============================] - 9s 215ms/step - loss: 0.2734 - accuracy: 0.8954 - val_loss: 0.1953 - val_accuracy: 0.9034\n",
      "Epoch 14/50\n",
      "43/43 [==============================] - 9s 217ms/step - loss: 0.2955 - accuracy: 0.8895 - val_loss: 0.3524 - val_accuracy: 0.8721\n",
      "Epoch 15/50\n",
      "43/43 [==============================] - 9s 211ms/step - loss: 0.2631 - accuracy: 0.8925 - val_loss: 0.2684 - val_accuracy: 0.8779\n",
      "Epoch 16/50\n",
      "43/43 [==============================] - 9s 212ms/step - loss: 0.2555 - accuracy: 0.9013 - val_loss: 0.3888 - val_accuracy: 0.7791\n",
      "Epoch 17/50\n",
      "43/43 [==============================] - 9s 215ms/step - loss: 0.2600 - accuracy: 0.9113 - val_loss: 0.6306 - val_accuracy: 0.9419\n",
      "Epoch 18/50\n",
      "43/43 [==============================] - 9s 211ms/step - loss: 0.2363 - accuracy: 0.9164 - val_loss: 0.4813 - val_accuracy: 0.8721\n",
      "Epoch 19/50\n",
      "43/43 [==============================] - 9s 217ms/step - loss: 0.2444 - accuracy: 0.8983 - val_loss: 0.1293 - val_accuracy: 0.9128\n",
      "Epoch 20/50\n",
      "43/43 [==============================] - 8s 182ms/step - loss: 0.2302 - accuracy: 0.9075 - val_loss: 0.0425 - val_accuracy: 0.9012\n",
      "Epoch 21/50\n",
      "43/43 [==============================] - 8s 179ms/step - loss: 0.2200 - accuracy: 0.9219 - val_loss: 0.2818 - val_accuracy: 0.9012\n",
      "Epoch 22/50\n",
      "43/43 [==============================] - 8s 181ms/step - loss: 0.1830 - accuracy: 0.9264 - val_loss: 0.8276 - val_accuracy: 0.8605\n",
      "Epoch 23/50\n",
      "43/43 [==============================] - 8s 178ms/step - loss: 0.2208 - accuracy: 0.9172 - val_loss: 0.4728 - val_accuracy: 0.9244\n",
      "Epoch 24/50\n",
      "43/43 [==============================] - 8s 175ms/step - loss: 0.1789 - accuracy: 0.9293 - val_loss: 0.0192 - val_accuracy: 0.9477\n",
      "Epoch 25/50\n",
      "43/43 [==============================] - 8s 182ms/step - loss: 0.2339 - accuracy: 0.9209 - val_loss: 0.1032 - val_accuracy: 0.9318\n",
      "Epoch 26/50\n",
      "43/43 [==============================] - 10s 222ms/step - loss: 0.1902 - accuracy: 0.9426 - val_loss: 0.0458 - val_accuracy: 0.9593\n",
      "Epoch 27/50\n",
      "43/43 [==============================] - 9s 216ms/step - loss: 0.1514 - accuracy: 0.9390 - val_loss: 0.0286 - val_accuracy: 0.8721\n",
      "Epoch 28/50\n",
      "43/43 [==============================] - 9s 212ms/step - loss: 0.1659 - accuracy: 0.9433 - val_loss: 0.2993 - val_accuracy: 0.9360\n",
      "Epoch 29/50\n",
      "43/43 [==============================] - 9s 207ms/step - loss: 0.1803 - accuracy: 0.9390 - val_loss: 0.3908 - val_accuracy: 0.9244\n",
      "Epoch 30/50\n",
      "43/43 [==============================] - 9s 205ms/step - loss: 0.1684 - accuracy: 0.9381 - val_loss: 0.5937 - val_accuracy: 0.9593\n",
      "Epoch 31/50\n",
      "43/43 [==============================] - 9s 208ms/step - loss: 0.2260 - accuracy: 0.9308 - val_loss: 0.1516 - val_accuracy: 0.9535\n",
      "Epoch 32/50\n",
      "43/43 [==============================] - 9s 205ms/step - loss: 0.1677 - accuracy: 0.9433 - val_loss: 0.0699 - val_accuracy: 0.9070\n",
      "Epoch 33/50\n",
      "43/43 [==============================] - 9s 207ms/step - loss: 0.1574 - accuracy: 0.9404 - val_loss: 0.1436 - val_accuracy: 0.9244\n",
      "Epoch 34/50\n",
      "43/43 [==============================] - 9s 210ms/step - loss: 0.1430 - accuracy: 0.9440 - val_loss: 0.3620 - val_accuracy: 0.9419\n",
      "Epoch 35/50\n",
      "43/43 [==============================] - 9s 210ms/step - loss: 0.1379 - accuracy: 0.9543 - val_loss: 0.0097 - val_accuracy: 0.9477\n",
      "Epoch 36/50\n",
      "43/43 [==============================] - 8s 190ms/step - loss: 0.1577 - accuracy: 0.9396 - val_loss: 0.0077 - val_accuracy: 0.9535\n",
      "Epoch 37/50\n",
      "43/43 [==============================] - 8s 180ms/step - loss: 0.1413 - accuracy: 0.9529 - val_loss: 0.0037 - val_accuracy: 0.9545\n",
      "Epoch 38/50\n",
      "43/43 [==============================] - 8s 178ms/step - loss: 0.1342 - accuracy: 0.9499 - val_loss: 0.0169 - val_accuracy: 0.9593\n",
      "Epoch 39/50\n",
      "43/43 [==============================] - 8s 179ms/step - loss: 0.1149 - accuracy: 0.9588 - val_loss: 0.0277 - val_accuracy: 0.9651\n",
      "Epoch 40/50\n",
      "43/43 [==============================] - 8s 182ms/step - loss: 0.1215 - accuracy: 0.9573 - val_loss: 0.0251 - val_accuracy: 0.9593\n",
      "Epoch 41/50\n",
      "43/43 [==============================] - 9s 217ms/step - loss: 0.1802 - accuracy: 0.9337 - val_loss: 0.0600 - val_accuracy: 0.9651\n",
      "Epoch 42/50\n",
      "43/43 [==============================] - 9s 216ms/step - loss: 0.2404 - accuracy: 0.9323 - val_loss: 0.0389 - val_accuracy: 0.9128\n",
      "Epoch 43/50\n",
      "43/43 [==============================] - 10s 228ms/step - loss: 0.1103 - accuracy: 0.9514 - val_loss: 1.1936 - val_accuracy: 0.9244\n",
      "Epoch 44/50\n",
      "43/43 [==============================] - 8s 188ms/step - loss: 0.1653 - accuracy: 0.9499 - val_loss: 0.8464 - val_accuracy: 0.9477\n",
      "Epoch 45/50\n",
      "43/43 [==============================] - 8s 175ms/step - loss: 0.1239 - accuracy: 0.9617 - val_loss: 1.1910 - val_accuracy: 0.9302\n",
      "Epoch 46/50\n",
      "43/43 [==============================] - 8s 179ms/step - loss: 0.1371 - accuracy: 0.9499 - val_loss: 0.0054 - val_accuracy: 0.8953\n",
      "Epoch 47/50\n",
      "43/43 [==============================] - 8s 182ms/step - loss: 0.0846 - accuracy: 0.9617 - val_loss: 0.5364 - val_accuracy: 0.9419\n",
      "Epoch 48/50\n",
      "43/43 [==============================] - 8s 178ms/step - loss: 0.1939 - accuracy: 0.9293 - val_loss: 1.1558 - val_accuracy: 0.8256\n",
      "Epoch 49/50\n",
      "43/43 [==============================] - 8s 179ms/step - loss: 0.1042 - accuracy: 0.9602 - val_loss: 0.0052 - val_accuracy: 0.9602\n",
      "Epoch 50/50\n",
      "43/43 [==============================] - 8s 180ms/step - loss: 0.1335 - accuracy: 0.9529 - val_loss: 6.3373e-04 - val_accuracy: 0.9477\n"
     ]
    }
   ],
   "source": [
    "model.fit_generator(\n",
    "    train_gen,\n",
    "    steps_per_epoch=num_train_samples // batch_size,\n",
    "    epochs=num_epochs,\n",
    "    validation_data=validation_gen,\n",
    "    validation_steps=num_validation_samples // batch_size)\n",
    "\n",
    "model.save_weights('runs/saved_weights.h5')"
   ]
  },
  {
   "cell_type": "code",
   "execution_count": 103,
   "metadata": {},
   "outputs": [],
   "source": [
    "def isEmptyShelf(pred):\n",
    "    if pred < 0.5:\n",
    "        print (\"Empty shelf\")\n",
    "    else:\n",
    "        print (\"Full shelf\")"
   ]
  },
  {
   "cell_type": "code",
   "execution_count": 107,
   "metadata": {},
   "outputs": [
    {
     "name": "stdout",
     "output_type": "stream",
     "text": [
      "Empty shelf\n"
     ]
    }
   ],
   "source": [
    "hidden_sanity_image_empty = 'data/empty_shelf_sanity.jpeg'\n",
    "\n",
    "img = load_img(hidden_sanity_image_empty, target_size=(img_width, img_height))\n",
    "x = img_to_array(img)\n",
    "x = x.reshape((1,) + x.shape)\n",
    "\n",
    "\n",
    "pred = model.predict(x)[0][0]\n",
    "isEmptyShelf(pred)"
   ]
  },
  {
   "cell_type": "code",
   "execution_count": 110,
   "metadata": {},
   "outputs": [
    {
     "name": "stdout",
     "output_type": "stream",
     "text": [
      "Full shelf\n"
     ]
    }
   ],
   "source": [
    "hidden_sanity_image_full = 'data/full_shelf_sanity.jpg'\n",
    "img = load_img(hidden_sanity_image_full, target_size=(img_width, img_height))\n",
    "x = img_to_array(img)\n",
    "x = x.reshape((1,) + x.shape)\n",
    "\n",
    "\n",
    "pred = model.predict(x)[0][0]\n",
    "isEmptyShelf(pred)"
   ]
  }
 ],
 "metadata": {
  "kernelspec": {
   "display_name": "Python 3",
   "language": "python",
   "name": "python3"
  },
  "language_info": {
   "codemirror_mode": {
    "name": "ipython",
    "version": 3
   },
   "file_extension": ".py",
   "mimetype": "text/x-python",
   "name": "python",
   "nbconvert_exporter": "python",
   "pygments_lexer": "ipython3",
   "version": "3.7.0"
  }
 },
 "nbformat": 4,
 "nbformat_minor": 4
}
